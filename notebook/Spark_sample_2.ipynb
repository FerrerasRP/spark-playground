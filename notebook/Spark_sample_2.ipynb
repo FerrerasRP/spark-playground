{
 "cells": [
  {
   "cell_type": "code",
   "execution_count": 4,
   "metadata": {},
   "outputs": [
    {
     "name": "stdout",
     "output_type": "stream",
     "text": [
      "+-------+----------+-------+-------------------+------+------------+\n",
      "|EventID|CustomerID|TrackID|           Datetime|Mobile|ListeningZip|\n",
      "+-------+----------+-------+-------------------+------+------------+\n",
      "|      0|        48|    453|2014-10-23 03:26:20|     0|       72132|\n",
      "|      1|      1081|     19|2014-10-15 18:32:14|     1|       17307|\n",
      "+-------+----------+-------+-------------------+------+------------+\n",
      "only showing top 2 rows\n",
      "\n",
      "+------+-------------+------+--------------------+-----+----------+------+-----+--------+--------------+\n",
      "|CustID|         Name|Gender|             Address|  zip|  SignDate|Status|Level|Campaign|LinkedWithApps|\n",
      "+------+-------------+------+--------------------+-----+----------+------+-----+--------+--------------+\n",
      "|     0|Gregory Koval|     0|13004 Easy Cider ...|72132|06/04/2013|     1|    1|       1|             0|\n",
      "|     1|Robert Gordon|     0|10497 Thunder Hic...|17307|07/27/2013|     1|    1|       1|             0|\n",
      "+------+-------------+------+--------------------+-----+----------+------+-----+--------+--------------+\n",
      "only showing top 2 rows\n",
      "\n"
     ]
    },
    {
     "data": {
      "text/plain": [
       "(1000000, 5000)"
      ]
     },
     "execution_count": 4,
     "metadata": {},
     "output_type": "execute_result"
    }
   ],
   "source": [
    "from pyspark.sql import *\n",
    "spark = SparkSession.builder.master(\"local[*]\").appName(\"music\").getOrCreate()\n",
    "tracks = spark.read.csv('../data/tracks.csv',inferSchema=True, header= True)\n",
    "cust = spark.read.csv('../data/cust.csv',inferSchema=True, header= True)\n",
    "tracks.show(2)\n",
    "cust.show(2)\n",
    "tracks.count(),cust.count()"
   ]
  },
  {
   "cell_type": "code",
   "execution_count": 16,
   "metadata": {},
   "outputs": [
    {
     "name": "stdout",
     "output_type": "stream",
     "text": [
      "+------+------+\n",
      "|Gender| count|\n",
      "+------+------+\n",
      "|     1|394132|\n",
      "|     0|605868|\n",
      "+------+------+\n",
      "\n"
     ]
    }
   ],
   "source": [
    "inner_join = tracks.join(cust, tracks.CustomerID == cust.CustID)\n",
    "inner_join.select(\"CustID\",\"Name\",\"Gender\").groupBy(\"Gender\").count().show(2)\n"
   ]
  },
  {
   "cell_type": "code",
   "execution_count": null,
   "metadata": {},
   "outputs": [],
   "source": []
  }
 ],
 "metadata": {
  "kernelspec": {
   "display_name": "Python 3",
   "language": "python",
   "name": "python3"
  },
  "language_info": {
   "codemirror_mode": {
    "name": "ipython",
    "version": 3
   },
   "file_extension": ".py",
   "mimetype": "text/x-python",
   "name": "python",
   "nbconvert_exporter": "python",
   "pygments_lexer": "ipython3",
   "version": "3.6.9"
  }
 },
 "nbformat": 4,
 "nbformat_minor": 4
}
