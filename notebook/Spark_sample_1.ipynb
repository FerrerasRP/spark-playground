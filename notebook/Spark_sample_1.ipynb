{
 "cells": [
  {
   "cell_type": "code",
   "execution_count": 1,
   "metadata": {},
   "outputs": [
    {
     "data": {
      "text/plain": [
       "[('spark.app.id', 'local-1592809670034'),\n",
       " ('spark.driver.port', '37107'),\n",
       " ('spark.rdd.compress', 'True'),\n",
       " ('spark.app.name', 'Learning_Spark'),\n",
       " ('spark.serializer.objectStreamReset', '100'),\n",
       " ('spark.master', 'local[*]'),\n",
       " ('spark.submit.pyFiles', ''),\n",
       " ('spark.executor.id', 'driver'),\n",
       " ('spark.submit.deployMode', 'client'),\n",
       " ('spark.driver.host', '192.168.0.49'),\n",
       " ('spark.ui.showConsoleProgress', 'true')]"
      ]
     },
     "execution_count": 1,
     "metadata": {},
     "output_type": "execute_result"
    }
   ],
   "source": [
    "from pyspark.sql import SparkSession\n",
    "spark = SparkSession.builder \\\n",
    "    .master(\"local[*]\") \\\n",
    "    .appName(\"Learning_Spark\") \\\n",
    "    .getOrCreate()\n",
    "data = spark.read.csv('../data/vgsales.csv',inferSchema=True, header=True)\n",
    "data.count(), len(data.columns)"
   ]
  },
  {
   "cell_type": "code",
   "execution_count": 4,
   "metadata": {},
   "outputs": [
    {
     "name": "stdout",
     "output_type": "stream",
     "text": [
      "+----+----------+--------+----+------+---------+--------+--------+--------+-----------+------------+\n",
      "|Rank|      Name|Platform|Year| Genre|Publisher|NA_Sales|EU_Sales|JP_Sales|Other_Sales|Global_Sales|\n",
      "+----+----------+--------+----+------+---------+--------+--------+--------+-----------+------------+\n",
      "|   1|Wii Sports|     Wii|2006|Sports| Nintendo|   41.49|   29.02|    3.77|       8.46|       82.74|\n",
      "+----+----------+--------+----+------+---------+--------+--------+--------+-----------+------------+\n",
      "only showing top 1 row\n",
      "\n"
     ]
    }
   ],
   "source": [
    "data.show(1)"
   ]
  },
  {
   "cell_type": "code",
   "execution_count": 21,
   "metadata": {},
   "outputs": [
    {
     "data": {
      "text/plain": [
       "DataFrame[Rank: int, Name: string, Platform: string, Year: string, Genre: string, Publisher: string, NA_Sales: double, EU_Sales: double, JP_Sales: double, Other_Sales: double, Global_Sales: double]"
      ]
     },
     "execution_count": 21,
     "metadata": {},
     "output_type": "execute_result"
    }
   ],
   "source": [
    "data"
   ]
  },
  {
   "cell_type": "code",
   "execution_count": 11,
   "metadata": {},
   "outputs": [
    {
     "name": "stdout",
     "output_type": "stream",
     "text": [
      "root\n",
      " |-- Rank: integer (nullable = true)\n",
      " |-- Name: string (nullable = true)\n",
      " |-- Platform: string (nullable = true)\n",
      " |-- Year: string (nullable = true)\n",
      " |-- Genre: string (nullable = true)\n",
      " |-- Publisher: string (nullable = true)\n",
      " |-- NA_Sales: double (nullable = true)\n",
      " |-- EU_Sales: double (nullable = true)\n",
      " |-- JP_Sales: double (nullable = true)\n",
      " |-- Other_Sales: double (nullable = true)\n",
      " |-- Global_Sales: double (nullable = true)\n",
      "\n"
     ]
    }
   ],
   "source": [
    "data.printSchema()"
   ]
  },
  {
   "cell_type": "code",
   "execution_count": 16,
   "metadata": {},
   "outputs": [
    {
     "name": "stdout",
     "output_type": "stream",
     "text": [
      "+-----------------+----+\n",
      "|             Name|Year|\n",
      "+-----------------+----+\n",
      "|       Wii Sports|2006|\n",
      "|Super Mario Bros.|1985|\n",
      "|   Mario Kart Wii|2008|\n",
      "+-----------------+----+\n",
      "only showing top 3 rows\n",
      "\n"
     ]
    }
   ],
   "source": [
    "data.select('Name','Year').show(3)"
   ]
  },
  {
   "cell_type": "code",
   "execution_count": 15,
   "metadata": {},
   "outputs": [
    {
     "name": "stdout",
     "output_type": "stream",
     "text": [
      "+----+-----+\n",
      "|Year|count|\n",
      "+----+-----+\n",
      "| N/A|  271|\n",
      "|2020|    1|\n",
      "|2017|    3|\n",
      "|2016|  344|\n",
      "|2015|  614|\n",
      "|2014|  582|\n",
      "|2013|  546|\n",
      "|2012|  657|\n",
      "|2011| 1139|\n",
      "|2010| 1259|\n",
      "|2009| 1431|\n",
      "|2008| 1428|\n",
      "|2007| 1202|\n",
      "|2006| 1008|\n",
      "|2005|  941|\n",
      "|2004|  763|\n",
      "|2003|  775|\n",
      "|2002|  829|\n",
      "|2001|  482|\n",
      "|2000|  349|\n",
      "+----+-----+\n",
      "only showing top 20 rows\n",
      "\n"
     ]
    }
   ],
   "source": [
    "data.groupBy('Year').count().orderBy('Year',ascending=False).show()"
   ]
  },
  {
   "cell_type": "code",
   "execution_count": 20,
   "metadata": {},
   "outputs": [
    {
     "name": "stdout",
     "output_type": "stream",
     "text": [
      "+----+-----+\n",
      "|Year|count|\n",
      "+----+-----+\n",
      "|2020|    1|\n",
      "|2017|    3|\n",
      "|2016|  344|\n",
      "|2015|  614|\n",
      "|2014|  582|\n",
      "|2013|  546|\n",
      "|2012|  657|\n",
      "|2011| 1139|\n",
      "|2010| 1259|\n",
      "|2009| 1431|\n",
      "|2008| 1428|\n",
      "|2007| 1202|\n",
      "|2006| 1008|\n",
      "|2005|  941|\n",
      "|2004|  763|\n",
      "|2003|  775|\n",
      "|2002|  829|\n",
      "|2001|  482|\n",
      "|2000|  349|\n",
      "|1999|  338|\n",
      "+----+-----+\n",
      "only showing top 20 rows\n",
      "\n"
     ]
    }
   ],
   "source": [
    "condition = data.Year !='N/A'\n",
    "data.groupBy('Year').count().filter(condition).orderBy('Year',ascending=False).show()"
   ]
  }
 ],
 "metadata": {
  "kernelspec": {
   "display_name": "Python 3",
   "language": "python",
   "name": "python3"
  },
  "language_info": {
   "codemirror_mode": {
    "name": "ipython",
    "version": 3
   },
   "file_extension": ".py",
   "mimetype": "text/x-python",
   "name": "python",
   "nbconvert_exporter": "python",
   "pygments_lexer": "ipython3",
   "version": "3.6.9"
  }
 },
 "nbformat": 4,
 "nbformat_minor": 4
}
