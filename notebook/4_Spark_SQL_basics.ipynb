{
 "cells": [
  {
   "cell_type": "markdown",
   "metadata": {},
   "source": [
    "# Spark SQL\n",
    "\n",
    "Spark SQL essentially tries to bridge the gap between the two models we mentioned previously—the relational and procedural models.\n",
    "\n",
    "Spark SQL provides a DataFrame API that can perform relational operations on both external data sources and Spark's built-in distributed collections—at scale!\n",
    "\n",
    "To support a wide variety of diverse data sources and algorithms in Big Data, Spark SQL introduces a novel extensible optimizer called Catalyst, which makes it easy to add data sources, optimization rules, and data types for advanced analytics such as machine learning. Essentially, Spark SQL leverages the power of Spark to perform distributed, robust, in-memory computations at massive scale on Big Data.\n",
    "\n",
    "## Read the csv data "
   ]
  },
  {
   "cell_type": "code",
   "execution_count": 33,
   "metadata": {},
   "outputs": [
    {
     "data": {
      "text/plain": [
       "DataFrame[auctionid: bigint, bid: double, bidtime: double, bidder: string, bidderrate: string, openbid: double, price: double, item: string, auction_type: string]"
      ]
     },
     "execution_count": 33,
     "metadata": {},
     "output_type": "execute_result"
    }
   ],
   "source": [
    "from pyspark.sql import SparkSession\n",
    "spark = SparkSession.builder.appName('Basics').getOrCreate()\n",
    "df = spark.read.csv('../data/auction.csv',header=True, inferSchema=True)\n",
    "df"
   ]
  },
  {
   "cell_type": "markdown",
   "metadata": {},
   "source": [
    "## Show()"
   ]
  },
  {
   "cell_type": "code",
   "execution_count": 11,
   "metadata": {},
   "outputs": [
    {
     "name": "stdout",
     "output_type": "stream",
     "text": [
      "+----------+-----+--------+------------+----------+-------+-----+------------------+-------------+\n",
      "| auctionid|  bid| bidtime|      bidder|bidderrate|openbid|price|              item| auction_type|\n",
      "+----------+-----+--------+------------+----------+-------+-----+------------------+-------------+\n",
      "|1638893549|175.0|2.230949|schadenfreud|         0|   99.0|177.5|Cartier wristwatch|3 day auction|\n",
      "|1638893549|100.0|2.600116|       chuik|         0|   99.0|177.5|Cartier wristwatch|3 day auction|\n",
      "+----------+-----+--------+------------+----------+-------+-----+------------------+-------------+\n",
      "only showing top 2 rows\n",
      "\n"
     ]
    }
   ],
   "source": [
    "df.show(2)"
   ]
  },
  {
   "cell_type": "markdown",
   "metadata": {},
   "source": [
    "## Data Schema"
   ]
  },
  {
   "cell_type": "code",
   "execution_count": 13,
   "metadata": {},
   "outputs": [
    {
     "name": "stdout",
     "output_type": "stream",
     "text": [
      "root\n",
      " |-- auctionid: long (nullable = true)\n",
      " |-- bid: double (nullable = true)\n",
      " |-- bidtime: double (nullable = true)\n",
      " |-- bidder: string (nullable = true)\n",
      " |-- bidderrate: string (nullable = true)\n",
      " |-- openbid: double (nullable = true)\n",
      " |-- price: double (nullable = true)\n",
      " |-- item: string (nullable = true)\n",
      " |-- auction_type: string (nullable = true)\n",
      "\n"
     ]
    }
   ],
   "source": [
    "df.printSchema()"
   ]
  },
  {
   "cell_type": "markdown",
   "metadata": {},
   "source": [
    "## Get the columns"
   ]
  },
  {
   "cell_type": "code",
   "execution_count": 15,
   "metadata": {},
   "outputs": [
    {
     "data": {
      "text/plain": [
       "['auctionid',\n",
       " 'bid',\n",
       " 'bidtime',\n",
       " 'bidder',\n",
       " 'bidderrate',\n",
       " 'openbid',\n",
       " 'price',\n",
       " 'item',\n",
       " 'auction_type']"
      ]
     },
     "execution_count": 15,
     "metadata": {},
     "output_type": "execute_result"
    }
   ],
   "source": [
    "df.columns"
   ]
  },
  {
   "cell_type": "markdown",
   "metadata": {},
   "source": [
    "## Describe()"
   ]
  },
  {
   "cell_type": "code",
   "execution_count": 21,
   "metadata": {},
   "outputs": [
    {
     "name": "stdout",
     "output_type": "stream",
     "text": [
      "+-------+------------------+\n",
      "|summary|             price|\n",
      "+-------+------------------+\n",
      "|  count|             10681|\n",
      "|   mean|335.04358861528874|\n",
      "| stddev| 433.5660087308641|\n",
      "|    min|              26.0|\n",
      "|    max|            5400.0|\n",
      "+-------+------------------+\n",
      "\n"
     ]
    }
   ],
   "source": [
    "df.describe().select(\"summary\",\"price\").show()"
   ]
  },
  {
   "cell_type": "markdown",
   "metadata": {},
   "source": [
    "## Summary()"
   ]
  },
  {
   "cell_type": "code",
   "execution_count": 24,
   "metadata": {},
   "outputs": [
    {
     "name": "stdout",
     "output_type": "stream",
     "text": [
      "+-------+------------------+\n",
      "|summary|             price|\n",
      "+-------+------------------+\n",
      "|  count|             10681|\n",
      "|   mean|335.04358861528874|\n",
      "| stddev| 433.5660087308641|\n",
      "|    min|              26.0|\n",
      "|    25%|            186.51|\n",
      "|    50%|            228.01|\n",
      "|    75%|             255.0|\n",
      "|    max|            5400.0|\n",
      "+-------+------------------+\n",
      "\n"
     ]
    }
   ],
   "source": [
    "df.summary().select(\"summary\",\"price\").show()"
   ]
  },
  {
   "cell_type": "markdown",
   "metadata": {},
   "source": [
    "## Custom Data Schema"
   ]
  },
  {
   "cell_type": "code",
   "execution_count": 31,
   "metadata": {},
   "outputs": [
    {
     "name": "stdout",
     "output_type": "stream",
     "text": [
      "+---+----+----------------+\n",
      "| id|name|         address|\n",
      "+---+----+----------------+\n",
      "|  1|Lijo|[Columbus, Ohio]|\n",
      "+---+----+----------------+\n",
      "\n"
     ]
    }
   ],
   "source": [
    "from pyspark.sql.types import StructField, IntegerType, StringType, StructType\n",
    "address_schema = [StructField('city',StringType(),True),StructField('state',StringType(),True)]\n",
    "final_add_schema = StructType(fields=address_schema)\n",
    "data_schema = [StructField('id',IntegerType(),True),StructField('name',StringType(),True),\n",
    "               StructField('address',final_add_schema,True)]\n",
    "final_struc = StructType(fields=data_schema)\n",
    "df1 = spark.read.json('../data/data.json',schema=final_struc)\n",
    "df1.show()"
   ]
  },
  {
   "cell_type": "markdown",
   "metadata": {},
   "source": [
    "## Head()"
   ]
  },
  {
   "cell_type": "code",
   "execution_count": 37,
   "metadata": {},
   "outputs": [
    {
     "data": {
      "text/plain": [
       "{'auctionid': 1638893549,\n",
       " 'bid': 175.0,\n",
       " 'bidtime': 2.230949,\n",
       " 'bidder': 'schadenfreud',\n",
       " 'bidderrate': '0',\n",
       " 'openbid': 99.0,\n",
       " 'price': 177.5,\n",
       " 'item': 'Cartier wristwatch',\n",
       " 'auction_type': '3 day auction'}"
      ]
     },
     "execution_count": 37,
     "metadata": {},
     "output_type": "execute_result"
    }
   ],
   "source": [
    "df.head(2)\n",
    "dict=df.head(2)[0].asDict()\n",
    "dict"
   ]
  },
  {
   "cell_type": "markdown",
   "metadata": {},
   "source": [
    "## Filtering Operations\n",
    "\n",
    "Filtering can be done with SQL-like syntax or Pythonic way. "
   ]
  },
  {
   "cell_type": "code",
   "execution_count": 47,
   "metadata": {},
   "outputs": [
    {
     "name": "stdout",
     "output_type": "stream",
     "text": [
      "+----------+-----+--------+------------+----------+-------+-----+------------------+-------------+\n",
      "| auctionid|  bid| bidtime|      bidder|bidderrate|openbid|price|              item| auction_type|\n",
      "+----------+-----+--------+------------+----------+-------+-----+------------------+-------------+\n",
      "|1638893549|175.0|2.230949|schadenfreud|         0|   99.0|177.5|Cartier wristwatch|3 day auction|\n",
      "|1638893549|100.0|2.600116|       chuik|         0|   99.0|177.5|Cartier wristwatch|3 day auction|\n",
      "+----------+-----+--------+------------+----------+-------+-----+------------------+-------------+\n",
      "only showing top 2 rows\n",
      "\n",
      "+----------+-----+--------+------------+----------+-------+-----+------------------+-------------+\n",
      "| auctionid|  bid| bidtime|      bidder|bidderrate|openbid|price|              item| auction_type|\n",
      "+----------+-----+--------+------------+----------+-------+-----+------------------+-------------+\n",
      "|1638893549|175.0|2.230949|schadenfreud|         0|   99.0|177.5|Cartier wristwatch|3 day auction|\n",
      "|1638893549|100.0|2.600116|       chuik|         0|   99.0|177.5|Cartier wristwatch|3 day auction|\n",
      "+----------+-----+--------+------------+----------+-------+-----+------------------+-------------+\n",
      "only showing top 2 rows\n",
      "\n"
     ]
    },
    {
     "data": {
      "text/plain": [
       "[Row(auctionid=1638893549, bid=175.0, bidtime=2.230949, bidder='schadenfreud', bidderrate='0', openbid=99.0, price=177.5, item='Cartier wristwatch', auction_type='3 day auction'),\n",
       " Row(auctionid=1638893549, bid=100.0, bidtime=2.600116, bidder='chuik', bidderrate='0', openbid=99.0, price=177.5, item='Cartier wristwatch', auction_type='3 day auction')]"
      ]
     },
     "execution_count": 47,
     "metadata": {},
     "output_type": "execute_result"
    }
   ],
   "source": [
    "df.filter(\"price>100\").show(2)\n",
    "# we can also use dataframe to filter\n",
    "df.filter(df['price'] > 150).show(2)\n",
    "# use == for equals comparison\n",
    "df.filter(df['price'] == '177.5').collect()[:2]"
   ]
  },
  {
   "cell_type": "markdown",
   "metadata": {},
   "source": [
    "## Create new columns (after some processing of existing columns)"
   ]
  },
  {
   "cell_type": "code",
   "execution_count": 51,
   "metadata": {},
   "outputs": [
    {
     "name": "stdout",
     "output_type": "stream",
     "text": [
      "+-----+------------+\n",
      "|price|double_price|\n",
      "+-----+------------+\n",
      "|177.5|       355.0|\n",
      "|177.5|       355.0|\n",
      "+-----+------------+\n",
      "only showing top 2 rows\n",
      "\n"
     ]
    }
   ],
   "source": [
    "df.withColumn('double_price',df['price']*2).select(\"price\",\"double_price\").show(2)"
   ]
  },
  {
   "cell_type": "markdown",
   "metadata": {},
   "source": [
    "## groupBy()"
   ]
  },
  {
   "cell_type": "code",
   "execution_count": 59,
   "metadata": {},
   "outputs": [
    {
     "name": "stdout",
     "output_type": "stream",
     "text": [
      "+-------------------+--------------+--------+------------+------------+----------+\n",
      "|               item|max(auctionid)|max(bid)|max(bidtime)|max(openbid)|max(price)|\n",
      "+-------------------+--------------+--------+------------+------------+----------+\n",
      "|Palm Pilot M515 PDA|    3410601613|   290.0|     6.99999|       265.0|     290.0|\n",
      "| Cartier wristwatch|    1650986455|  5400.0| 6.999965278|      5000.0|    5400.0|\n",
      "+-------------------+--------------+--------+------------+------------+----------+\n",
      "only showing top 2 rows\n",
      "\n",
      "+-------------------+-----+\n",
      "|               item|count|\n",
      "+-------------------+-----+\n",
      "|Palm Pilot M515 PDA| 5917|\n",
      "| Cartier wristwatch| 1953|\n",
      "+-------------------+-----+\n",
      "only showing top 2 rows\n",
      "\n"
     ]
    }
   ],
   "source": [
    "data = df.groupBy(\"item\")\n",
    "data.max().show(2)\n",
    "data.count().show(2)"
   ]
  },
  {
   "cell_type": "markdown",
   "metadata": {},
   "source": [
    "## agg()"
   ]
  },
  {
   "cell_type": "code",
   "execution_count": 63,
   "metadata": {},
   "outputs": [
    {
     "name": "stdout",
     "output_type": "stream",
     "text": [
      "+-------------------+----------+\n",
      "|               item|max(price)|\n",
      "+-------------------+----------+\n",
      "|Palm Pilot M515 PDA|     290.0|\n",
      "| Cartier wristwatch|    5400.0|\n",
      "+-------------------+----------+\n",
      "only showing top 2 rows\n",
      "\n"
     ]
    }
   ],
   "source": [
    "group_data = df.groupBy('item')\n",
    "group_data.agg({'price':'max'}).show(2)"
   ]
  },
  {
   "cell_type": "markdown",
   "metadata": {},
   "source": [
    "## orderBy()"
   ]
  },
  {
   "cell_type": "code",
   "execution_count": 86,
   "metadata": {},
   "outputs": [
    {
     "name": "stdout",
     "output_type": "stream",
     "text": [
      "+-------------------+----------+\n",
      "|               item|max(price)|\n",
      "+-------------------+----------+\n",
      "| Cartier wristwatch|    5400.0|\n",
      "|  Xbox game console|    501.77|\n",
      "|Palm Pilot M515 PDA|     290.0|\n",
      "+-------------------+----------+\n",
      "\n",
      "+-------------------+----------+\n",
      "|               item|max(price)|\n",
      "+-------------------+----------+\n",
      "|Palm Pilot M515 PDA|     290.0|\n",
      "|  Xbox game console|    501.77|\n",
      "| Cartier wristwatch|    5400.0|\n",
      "+-------------------+----------+\n",
      "\n"
     ]
    }
   ],
   "source": [
    "df.groupBy('item').max('price').orderBy('max(price)',ascending=False).show()\n",
    "df.groupBy('item').max('price').sort('max(price)',ascending=True).show()"
   ]
  },
  {
   "cell_type": "markdown",
   "metadata": {},
   "source": [
    "## Using SQL statements"
   ]
  },
  {
   "cell_type": "code",
   "execution_count": 93,
   "metadata": {},
   "outputs": [
    {
     "name": "stdout",
     "output_type": "stream",
     "text": [
      "+----------+-----+--------+------------+----------+-------+-----+------------------+-------------+\n",
      "| auctionid|  bid| bidtime|      bidder|bidderrate|openbid|price|              item| auction_type|\n",
      "+----------+-----+--------+------------+----------+-------+-----+------------------+-------------+\n",
      "|1638893549|175.0|2.230949|schadenfreud|         0|   99.0|177.5|Cartier wristwatch|3 day auction|\n",
      "|1638893549|100.0|2.600116|       chuik|         0|   99.0|177.5|Cartier wristwatch|3 day auction|\n",
      "+----------+-----+--------+------------+----------+-------+-----+------------------+-------------+\n",
      "only showing top 2 rows\n",
      "\n"
     ]
    }
   ],
   "source": [
    "df.createOrReplaceTempView('auctions')\n",
    "data = spark.sql(\"select * from auctions\")\n",
    "data.show(2)"
   ]
  },
  {
   "cell_type": "code",
   "execution_count": 95,
   "metadata": {},
   "outputs": [
    {
     "name": "stdout",
     "output_type": "stream",
     "text": [
      "+----+----------+--------+----+------+---------+--------+--------+--------+-----------+------------+\n",
      "| _c0|       _c1|     _c2| _c3|   _c4|      _c5|     _c6|     _c7|     _c8|        _c9|        _c10|\n",
      "+----+----------+--------+----+------+---------+--------+--------+--------+-----------+------------+\n",
      "|Rank|      Name|Platform|Year| Genre|Publisher|NA_Sales|EU_Sales|JP_Sales|Other_Sales|Global_Sales|\n",
      "|   1|Wii Sports|     Wii|2006|Sports| Nintendo|   41.49|   29.02|    3.77|       8.46|       82.74|\n",
      "+----+----------+--------+----+------+---------+--------+--------+--------+-----------+------------+\n",
      "only showing top 2 rows\n",
      "\n"
     ]
    }
   ],
   "source": [
    "df_sales = spark.sql(\"SELECT * FROM csv.`../data/vgsales.csv`\")\n",
    "df_sales.show(2)"
   ]
  },
  {
   "cell_type": "code",
   "execution_count": 102,
   "metadata": {},
   "outputs": [],
   "source": [
    "spark.stop()"
   ]
  }
 ],
 "metadata": {
  "kernelspec": {
   "display_name": "Python 3",
   "language": "python",
   "name": "python3"
  },
  "language_info": {
   "codemirror_mode": {
    "name": "ipython",
    "version": 3
   },
   "file_extension": ".py",
   "mimetype": "text/x-python",
   "name": "python",
   "nbconvert_exporter": "python",
   "pygments_lexer": "ipython3",
   "version": "3.6.9"
  }
 },
 "nbformat": 4,
 "nbformat_minor": 4
}
