{
 "cells": [
  {
   "cell_type": "markdown",
   "metadata": {},
   "source": [
    "# Spark S3 Connection\n",
    "\n",
    "we need to make sure the hadoop aws package is available when we load spark"
   ]
  },
  {
   "cell_type": "code",
   "execution_count": 1,
   "metadata": {},
   "outputs": [],
   "source": [
    "# import os\n",
    "# os.environ['PYSPARK_SUBMIT_ARGS'] = \"--packages=org.apache.hadoop:hadoop-aws:2.7.4 pyspark-shell\"\n",
    "# import pyspark\n",
    "# sc=pyspark.SparkContext()\n",
    "# sql=pyspark.sql.SparkSession(sc)\n",
    "\n",
    "from pyspark import SparkConf, SparkContext\n",
    "from pyspark.sql import SparkSession\n",
    "\n",
    "\n",
    "# depending on your set up:\n",
    "# if you are running the spark app locally, set the driver memory to something your system can handle\n",
    "# if you are running on a cluster, then also set the executor memory - if necessary (depends on how your cluster is configured)\n",
    "conf = SparkConf()\n",
    "conf.set('spark.executor.memory', '8g')\n",
    "conf.set('spark.driver.memory', '8g')\n",
    "conf.set('spark.jars', '/usr/local/spark/jars/aws-java-sdk-1.7.4.jar,/usr/local/spark/jars/hadoop-aws-2.7.4.jar')\n",
    "\n",
    "spark_session = SparkSession.builder \\\n",
    "        .config(conf=conf) \\\n",
    "        .appName('s3-write') \\\n",
    "        .getOrCreate()\n",
    "spark_session.sparkContext.setLogLevel(\"INFO\")"
   ]
  },
  {
   "cell_type": "markdown",
   "metadata": {},
   "source": [
    "### Reading config from file\n",
    "\n",
    "We can use the configparser package to read the credentials from the standard aws file (https://docs.aws.amazon.com/cli/latest/userguide/cli-configure-files.html)."
   ]
  },
  {
   "cell_type": "code",
   "execution_count": 2,
   "metadata": {},
   "outputs": [],
   "source": [
    "import configparser\n",
    "aws_profile = \"lijo\" #user profile name\n",
    "config = configparser.ConfigParser()\n",
    "config.read(os.path.expanduser(\"~/.aws/credentials\"))\n",
    "access_id = config.get(aws_profile, \"aws_access_key_id\") \n",
    "access_key = config.get(aws_profile, \"aws_secret_access_key\")"
   ]
  },
  {
   "cell_type": "markdown",
   "metadata": {},
   "source": [
    "### Configure hadoop"
   ]
  },
  {
   "cell_type": "code",
   "execution_count": 3,
   "metadata": {},
   "outputs": [],
   "source": [
    "hadoop_conf=sc._jsc.hadoopConfiguration()\n",
    "hadoop_conf.set(\"fs.s3a.impl\", \"org.apache.hadoop.fs.s3native.NativeS3FileSystem\")\n",
    "hadoop_conf.set(\"fs.s3a.awsAccessKeyId\", access_id)\n",
    "hadoop_conf.set(\"fs.s3a.awsSecretAccessKey\", access_key)"
   ]
  },
  {
   "cell_type": "markdown",
   "metadata": {},
   "source": [
    "### Reading data from S3"
   ]
  },
  {
   "cell_type": "code",
   "execution_count": null,
   "metadata": {
    "scrolled": true
   },
   "outputs": [],
   "source": [
    "df=sql.read.csv(\"s3a://pyspark-lijo-test/auction.csv\",header=True, inferSchema=True)\n",
    "df.show(2)"
   ]
  },
  {
   "cell_type": "markdown",
   "metadata": {},
   "source": [
    "### For writing data to S3"
   ]
  },
  {
   "cell_type": "code",
   "execution_count": null,
   "metadata": {},
   "outputs": [],
   "source": [
    "# df.write.csv(\"s3a://pyspark-lijo-test/output/auction\",mode=\"overwrite\")\n",
    "# df.coalesce(20).write.mode(\"overwrite\").format(\"csv\").save(\"s3a://pyspark-lijo-test/output/auction\")\n",
    "# df.write.save(\"s3a://pyspark-lijo-test/output\", format='csv', header=True, mode=\"overwrite\")"
   ]
  }
 ],
 "metadata": {
  "kernelspec": {
   "display_name": "Python 3",
   "language": "python",
   "name": "python3"
  },
  "language_info": {
   "codemirror_mode": {
    "name": "ipython",
    "version": 3
   },
   "file_extension": ".py",
   "mimetype": "text/x-python",
   "name": "python",
   "nbconvert_exporter": "python",
   "pygments_lexer": "ipython3",
   "version": "3.6.9"
  }
 },
 "nbformat": 4,
 "nbformat_minor": 4
}
