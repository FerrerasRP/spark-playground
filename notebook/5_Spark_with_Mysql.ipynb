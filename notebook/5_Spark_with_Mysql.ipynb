{
 "cells": [
  {
   "cell_type": "markdown",
   "metadata": {},
   "source": [
    "# Spark Mysql Connection\n",
    "\n",
    "For connecting to mysql from spark, we have to download the mysql jar files from https://dev.mysql.com/downloads/connector/j/ and copy it in jars folder of spark installation.\n",
    "\n",
    "For the below version 5.1, after copying we should have two files: /opt/spark/jars/mysql-connector-java-5.1.49-bin.jar /opt/spark/jars/mysql-connector-java-5.1.49.jar"
   ]
  },
  {
   "cell_type": "code",
   "execution_count": 3,
   "metadata": {},
   "outputs": [],
   "source": [
    "import os\n",
    "from pyspark import SparkConf, SparkContext, SQLContext\n",
    "\n",
    "SUBMIT_ARGS = \"--packages mysql:mysql-connector-java:5.1.49 pyspark-shell\"\n",
    "os.environ[\"PYSPARK_SUBMIT_ARGS\"] = SUBMIT_ARGS\n",
    "conf = SparkConf()\n",
    "sc = SparkContext(conf=conf)"
   ]
  },
  {
   "cell_type": "code",
   "execution_count": 4,
   "metadata": {},
   "outputs": [
    {
     "name": "stdout",
     "output_type": "stream",
     "text": [
      "+---+----+\n",
      "| id|name|\n",
      "+---+----+\n",
      "|  1|lijo|\n",
      "|  2|somi|\n",
      "+---+----+\n",
      "\n"
     ]
    }
   ],
   "source": [
    "sqlContext = SQLContext(sc)\n",
    "source_df = sqlContext.read.format('jdbc').options(\n",
    "    url='jdbc:mysql://localhost:3306/test',\n",
    "    driver='com.mysql.jdbc.Driver',\n",
    "    dbtable='test_table',\n",
    "    user='lijo',\n",
    "    password='lijo@123').load()\n",
    "source_df.show()"
   ]
  },
  {
   "cell_type": "markdown",
   "metadata": {},
   "source": [
    "### Another way of connecting to mysql using mysql connector"
   ]
  },
  {
   "cell_type": "code",
   "execution_count": 1,
   "metadata": {},
   "outputs": [
    {
     "name": "stdout",
     "output_type": "stream",
     "text": [
      "+---+----+\n",
      "| id|name|\n",
      "+---+----+\n",
      "|  1|lijo|\n",
      "|  2|somi|\n",
      "+---+----+\n",
      "\n"
     ]
    }
   ],
   "source": [
    "from pyspark.sql import SparkSession\n",
    "\n",
    "spark = SparkSession\\\n",
    "    .builder\\\n",
    "    .appName(\"mysql-connect\")\\\n",
    "    .config(\"spark.driver.extraClassPath\", \"/opt/spark/jars/mysql-connector-java-8.0.20.jar\")\\\n",
    "    .getOrCreate()\n",
    "\n",
    "dataframe_mysql = spark.read\\\n",
    "    .format(\"jdbc\")\\\n",
    "    .option(\"url\", \"jdbc:mysql://localhost/test\")\\\n",
    "    .option(\"driver\", \"com.mysql.jdbc.Driver\")\\\n",
    "    .option(\"dbtable\", \"test_table\").option(\"user\", \"lijo\")\\\n",
    "    .option(\"password\", \"lijo@123\").load()\n",
    "\n",
    "dataframe_mysql.show()"
   ]
  }
 ],
 "metadata": {
  "kernelspec": {
   "display_name": "Python 3",
   "language": "python",
   "name": "python3"
  },
  "language_info": {
   "codemirror_mode": {
    "name": "ipython",
    "version": 3
   },
   "file_extension": ".py",
   "mimetype": "text/x-python",
   "name": "python",
   "nbconvert_exporter": "python",
   "pygments_lexer": "ipython3",
   "version": "3.6.9"
  }
 },
 "nbformat": 4,
 "nbformat_minor": 4
}
