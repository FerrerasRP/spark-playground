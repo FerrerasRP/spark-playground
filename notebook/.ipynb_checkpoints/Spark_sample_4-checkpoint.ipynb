{
 "cells": [
  {
   "cell_type": "code",
   "execution_count": null,
   "metadata": {},
   "outputs": [
    {
     "name": "stdout",
     "output_type": "stream",
     "text": [
      "-------------------------------------------\n",
      "Time: 2020-07-08 14:17:45\n",
      "-------------------------------------------\n",
      "\n",
      "-------------------------------------------\n",
      "Time: 2020-07-08 14:17:46\n",
      "-------------------------------------------\n",
      "\n",
      "-------------------------------------------\n",
      "Time: 2020-07-08 14:17:47\n",
      "-------------------------------------------\n",
      "\n",
      "-------------------------------------------\n",
      "Time: 2020-07-08 14:17:48\n",
      "-------------------------------------------\n",
      "\n",
      "-------------------------------------------\n",
      "Time: 2020-07-08 14:17:49\n",
      "-------------------------------------------\n",
      "\n",
      "-------------------------------------------\n",
      "Time: 2020-07-08 14:17:50\n",
      "-------------------------------------------\n",
      "\n",
      "-------------------------------------------\n",
      "Time: 2020-07-08 14:17:51\n",
      "-------------------------------------------\n",
      "\n",
      "-------------------------------------------\n",
      "Time: 2020-07-08 14:17:52\n",
      "-------------------------------------------\n",
      "\n",
      "-------------------------------------------\n",
      "Time: 2020-07-08 14:17:53\n",
      "-------------------------------------------\n",
      "\n"
     ]
    }
   ],
   "source": [
    "from pyspark import SparkContext\n",
    "from pyspark.streaming import StreamingContext\n",
    "sc = SparkContext(appName=\"PythonStreamingNetworkWordCount\")\n",
    "ssc = StreamingContext(sc, 1)\n",
    "\n",
    "lines = ssc.socketTextStream(\"localhost\", 9999)\n",
    "counts = lines.flatMap(lambda line: line.split(\" \"))\\\n",
    "              .map(lambda word: (word, 1))\\\n",
    "              .reduceByKey(lambda a, b: a+b)\n",
    "counts.pprint()\n",
    "\n",
    "ssc.start()\n",
    "ssc.awaitTermination()"
   ]
  },
  {
   "cell_type": "code",
   "execution_count": 56,
   "metadata": {},
   "outputs": [],
   "source": [
    "from pyspark import SparkFiles\n",
    "from pyspark.sql import SparkSession\n",
    "from pyspark.sql.types import *\n",
    "import requests\n",
    "import datetime\n",
    "from pyspark.sql.functions import col, unix_timestamp, to_timestamp\n",
    "spark = SparkSession.builder.appName('covid').getOrCreate()"
   ]
  },
  {
   "cell_type": "code",
   "execution_count": 79,
   "metadata": {},
   "outputs": [
    {
     "name": "stdout",
     "output_type": "stream",
     "text": [
      "+---+--------------------+-------------------+-------------------+\n",
      "|pid|             address|           timefrom|             timeto|\n",
      "+---+--------------------+-------------------+-------------------+\n",
      "|P35|  Suresh Hotel Ranni|01/03/2020 21:30:00|01/03/2020 23:00:00|\n",
      "|P35|Post Office Ranni...|02/03/2020 11:00:00|02/03/2020 11:30:00|\n",
      "|P35|Knanaya Church, P...|02/03/2020 11:30:00|02/03/2020 12:00:00|\n",
      "|P35|Post Office Ranni...|02/03/2020 12:00:00|02/03/2020 13:00:00|\n",
      "|P35|Golde Emporium, N...|02/03/2020 13:15:00|02/03/2020 14:00:00|\n",
      "|P35|Muthoot mini supe...|02/03/2020 14:30:00|                   |\n",
      "|P35|Imperial Backers,...|02/03/2020 18:00:00|                   |\n",
      "|P35|Relative house, M...|02/03/2020 19:00:00|                   |\n",
      "|P35|SBI/SBT Ranni, Th...|03/03/2020 12:00:00|                   |\n",
      "|P35|SBI/SBT Ranni, Th...|04/03/2020 10:00:00|04/03/2020 10:30:00|\n",
      "|P35|Supreme Travels, ...|04/03/2020 10:30:00|04/03/2020 11:30:00|\n",
      "|P35|UAE Exchange Path...|05/03/2020 11:45:00|05/03/2020 12:15:00|\n",
      "|P35|SP Office, Pathan...|05/03/2020 12:15:00|05/03/2020 12:45:00|\n",
      "|P35|Royal Studio, Pat...|05/03/2020 12:45:00|05/03/2020 13:15:00|\n",
      "|P35|Josco Jewellery, ...|05/03/2020 13:15:00|05/03/2020 14:00:00|\n",
      "|P35|Ranni Gate Hotel,...|05/03/2020 15:00:00|                   |\n",
      "|P35|Admitted to Hospi...|         06/03/2020|                   |\n",
      "|P35|Hotel Aryas, Kuth...|29/02/2020 10:30:00|29/02/2020 11:30:00|\n",
      "+---+--------------------+-------------------+-------------------+\n",
      "\n"
     ]
    }
   ],
   "source": [
    "def parse_date(text):\n",
    "    for fmt in ('%-d/%-m/%Y %H:%M', '%d/%m/%Y', '%d/%m/%Y %H:%M', '%d/%m/%Y %H.%M', '%d/%m/%Y %-I.%M'):\n",
    "        try:\n",
    "            return datetime.datetime.strptime(text.strip(), fmt)\n",
    "        except ValueError:\n",
    "            pass\n",
    "    print(text)\n",
    "#     raise ValueError('no valid date format found')\n",
    "\n",
    "url = \"https://api.covid19india.org/travel_history.json\"\n",
    "fields = [\n",
    "    StructField('pid',StringType(), True),\n",
    "    StructField('address',StringType(), True),\n",
    "    StructField('timefrom',StringType(), True),\n",
    "    StructField('timeto',StringType(), True)\n",
    "]\n",
    "schema = StructType(fields=fields)\n",
    "\n",
    "\n",
    "response = requests.get(url)\n",
    "dataList = [] \n",
    "for i in response.json()['travel_history']:\n",
    "    tDict = { key : i[key] for key in ['pid','address', 'timefrom', 'timeto']}\n",
    "    tDict['timefrom'] = parse_date(tDict['timefrom'][0:16])\n",
    "    dataList.append(tDict)\n",
    "\n",
    "df = spark.createDataFrame(dataList,schema)\n",
    "df.filter(\"pid == 'P35'\").sort(\"timefrom\").show()\n",
    "df.withColumn(\n",
    "    'new_date',\n",
    "    unix_timestamp(col('timefrom'), \"dd/mm/yyyy HH:mm:ss\").cast(\"timestamp\")\n",
    ").sort('new_date').show(truncate=False)\n",
    "\n",
    "# df.withColumn('converted_date',to_timestamp(col('timefrom'), \"dd/mm/yyyy HH:mm:ss\")).show(2)"
   ]
  }
 ],
 "metadata": {
  "kernelspec": {
   "display_name": "Python 3",
   "language": "python",
   "name": "python3"
  },
  "language_info": {
   "codemirror_mode": {
    "name": "ipython",
    "version": 3
   },
   "file_extension": ".py",
   "mimetype": "text/x-python",
   "name": "python",
   "nbconvert_exporter": "python",
   "pygments_lexer": "ipython3",
   "version": "3.6.9"
  }
 },
 "nbformat": 4,
 "nbformat_minor": 4
}
