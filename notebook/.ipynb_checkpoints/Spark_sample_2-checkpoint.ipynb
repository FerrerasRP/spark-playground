{
 "cells": [
  {
   "cell_type": "code",
   "execution_count": 3,
   "metadata": {},
   "outputs": [
    {
     "name": "stdout",
     "output_type": "stream",
     "text": [
      "+---+----+---+-------------------+---+-----+\n",
      "| 00|  48|453|2014-10-23 03:26:20| 04|72132|\n",
      "+---+----+---+-------------------+---+-----+\n",
      "|  1|1081| 19|2014-10-15 18:32:14|  1|17307|\n",
      "|  2| 532| 36|2014-12-10 15:33:16|  1|66216|\n",
      "+---+----+---+-------------------+---+-----+\n",
      "only showing top 2 rows\n",
      "\n"
     ]
    }
   ],
   "source": [
    "from pyspark.sql import SparkSession\n",
    "spark = SparkSession.builder.master(\"local[*]\").appName(\"music\").getOrCreate()\n",
    "tracks = spark.read.csv('../data/tracks.csv',inferSchema=True, header= True)\n",
    "tracks.show(2)"
   ]
  }
 ],
 "metadata": {
  "kernelspec": {
   "display_name": "Python 3",
   "language": "python",
   "name": "python3"
  },
  "language_info": {
   "codemirror_mode": {
    "name": "ipython",
    "version": 3
   },
   "file_extension": ".py",
   "mimetype": "text/x-python",
   "name": "python",
   "nbconvert_exporter": "python",
   "pygments_lexer": "ipython3",
   "version": "3.6.9"
  }
 },
 "nbformat": 4,
 "nbformat_minor": 4
}
